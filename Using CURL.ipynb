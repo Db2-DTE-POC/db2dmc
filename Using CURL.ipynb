{
 "cells": [
  {
   "cell_type": "markdown",
   "metadata": {
    "hide_input": false
   },
   "source": [
    "# Using cURL to work with the Db2 Console\n",
    "\n",
    "This Jupyter Notebook contains examples of how to setup and manage the Db2 Data Management Console using cURL. \n",
    "\n",
    "cURL is a command-line tool for getting or sending data, including files, using URL syntax. The name stands for \"Client URL\". It is particularly useful to write simple scripts to access the RESTful APIs of the Db2 Console. In this example we include cURL calls in a BASH script. The script constructs the URLs that contain the RESTful calls, then submits them to the Db2 Console's communication port. If you don't have access to a Jupyter Notebook environment, CURL is a simple way to get started with the Db2 Console APIs.\n",
    "\n",
    "Everything in the User Interface is also available through an open and fully documented RESTful Services API. The full set of APIs are documented as part of the Db2 Data Management Console user interface. In this hands on lab you can connect to the documentation directly through this link: [Db2 Data Management Console RESTful APIs](http://localhost:11080/dbapi/api/index_enterprise.html). \n",
    "\n",
    "This hands on lab will be calling the Db2 Data Management Console as a service. However you can explore it through the user interface as well. Just click on the following link to try out the console that is already and setup in this lab: http://localhost:11080/console. If you have not already logged in you can use the following:\n",
    "* Userid: db2inst1\n",
    "* Password: db2inst1"
   ]
  },
  {
   "cell_type": "markdown",
   "metadata": {},
   "source": [
    "### Where to find this sample online\n",
    "You can find a copy of this notebook at https://github.com/Db2-DTE-POC/db2dmc."
   ]
  },
  {
   "cell_type": "markdown",
   "metadata": {},
   "source": [
    "### Prepare the notebook\n",
    "Click on the next cell and press Shift-Return to refresh all of the examples in this notebook. This sets up the notebook example code."
   ]
  },
  {
   "cell_type": "code",
   "execution_count": null,
   "metadata": {},
   "outputs": [],
   "source": [
    "%run refresh.ipynb"
   ]
  },
  {
   "cell_type": "markdown",
   "metadata": {},
   "source": [
    "### How to Copy Code and Examples\n",
    "Throughout this lab there are code samples that need to be copied and modified in a text editor. Any commands that need to be executed from a command line are found in grey boxes (an example is found below) has been designed to be easily copied.\n",
    "1. Click on the next cell"
   ]
  },
  {
   "cell_type": "code",
   "execution_count": null,
   "metadata": {
    "hide_input": true,
    "tags": [
     "refresh"
    ]
   },
   "outputs": [],
   "source": [
    "%%html\n",
    "<div style=\"margin-left: 35px; border-style: solid; border-width: 1px; background-color:#F2F2F2; padding: 10px;\" >\n",
    "<pre id=111 onmousedown=\"window.clipline(111)\" onmouseup=\"window.reset(111)\">\n",
    "Sample commands are found in cells like this.\n",
    "</pre>\n",
    "</div>"
   ]
  },
  {
   "cell_type": "markdown",
   "metadata": {},
   "source": [
    "The entire contents of the text in the cell will be automatically copied when you click on the cell. The color of the background will change color briefly to indicate that the copy has completed. To paste commands into a terminal window, use the key combination Control-Shift-v.\n",
    "\n",
    "It may be easier to keep a terminal window on top of the Jupyter notebook when running these commands. When you have a terminal window displayed, right click on the title bar and select Always on Top to keep the screen visible during the duration of the lab.\n"
   ]
  },
  {
   "cell_type": "markdown",
   "metadata": {},
   "source": [
    "## Constructing API calls\n",
    "To access the Db2 Console service, first authenticate with the service and create a reusable token that is used for each call to the service. The token ensures that we don't have to provide a user ID and password each time we run a command while keeping the communication secure.\n",
    "\n",
    "Each request is constructed of several parts. First, you need to identify the URL of the service. For example: <code>http://localhost:11080</code>. In this example, we assume that the console service is running on the same machine as the Jupyter notebook but it can be remote. Port **11080** is typical for running an unsecured connection. (11081 for https). \n",
    "\n",
    "You then need to identify the API and the API version. In this case <code>dbapi/v4</code>.\n",
    "\n",
    "The next part of the call identifies the REST request and the options. For example <code>'/metrics/applications/connections/current/list'</code>. This is followed by more options separated by an <code>&</code>.\n",
    "\n",
    "So a complete call might look like this:\n",
    "\n",
    "<code>http://9.30.210.195:11080/dbapi/v4/metrics/applications/connections?end=1579643744759&include_sys=false&limit=100&offset=0&sort=-application_handle&start=1579640144759</code>\n",
    "\n",
    "In this case, the options are the start and end time, whether to include system generated connections, how to sort the results, and where to start the list. \n",
    "\n",
    "Some complex requests also include a JSON payload. For example running SQL includes a JSON object that identifies the script, statement delimiters, the maximum number of rows in the results set as well as what to do if a statement fails.\n",
    "\n",
    "The full set of APIs are documented as part of the Db2 Consle: [Db2 Data Management Console RESTful APIs](http://localhost:11080/dbapi/api/index_enterprise.html)."
   ]
  },
  {
   "cell_type": "markdown",
   "metadata": {},
   "source": [
    "## Simple cURL example\n",
    "In this example some simple API calls through cURL in a BASH script. The script constructs the URLs that contain the RESTful calls, then submits them to the Db2 Console's 11080 communication port.\n",
    "\n",
    "1. Click the Files icon at the bottom left of the screen\n",
    "2. Double-Click **notebooks**\n",
    "2. Scroll down and Double-Click **SampleCurl.sh**\n",
    "\n",
    "This opens the Text Editor so you can review the cURL script used in this example. You can also see a copy a few cells down."
   ]
  },
  {
   "cell_type": "markdown",
   "metadata": {},
   "source": [
    "## Install the jq library\n",
    "The jq library makes parsing the JSON returned by API call very easy. To install this library follow the steps below.\n",
    "\n",
    "1. Click the Terminal Icon in the bottom left of the screen\n",
    "2. Enter **sudo apt-get install jq** to install the jq library\n",
    "3. Click https://stedolan.github.io/jq to find out more about his useful library"
   ]
  },
  {
   "cell_type": "code",
   "execution_count": null,
   "metadata": {
    "hide_input": true,
    "tags": [
     "refresh"
    ]
   },
   "outputs": [],
   "source": [
    "%%html\n",
    "<div style=\"margin-left: 35px; border-style: solid; border-width: 1px; background-color:#F2F2F2; padding: 10px;\" >\n",
    "<pre id=112 onmousedown=\"window.clipline(112)\" onmouseup=\"window.reset(112)\">\n",
    "sudo apt-get install jq\n",
    "</pre>\n",
    "</div>"
   ]
  },
  {
   "cell_type": "markdown",
   "metadata": {},
   "source": [
    "## Running the Sample cURL script\n",
    "You can run the script from the Terminal or from this notebook. \n",
    "\n",
    "To run from the Terminal:\n",
    "1. Return to the Terminal Window from the previous step\n",
    "2. Enter **cd notebooks**\n",
    "3. Enter **sh SampleCurl.sh**\n",
    "\n",
    "To run in this notebook run the next cell (<code>%%bash</code> is included in the first line to pass the command to the BASH interpreter):"
   ]
  },
  {
   "cell_type": "code",
   "execution_count": null,
   "metadata": {
    "hide_input": true,
    "tags": [
     "refresh"
    ]
   },
   "outputs": [],
   "source": [
    "%%html\n",
    "<div style=\"margin-left: 35px; border-style: solid; border-width: 1px; background-color:#F2F2F2; padding: 10px;\" >\n",
    "<pre id=113 onmousedown=\"window.clipline(113)\" onmouseup=\"window.reset(113)\">\n",
    "cd notebooks\n",
    "sh SampleCurl.sh\n",
    "</pre>\n",
    "</div>"
   ]
  },
  {
   "cell_type": "code",
   "execution_count": null,
   "metadata": {},
   "outputs": [],
   "source": [
    "%%bash\n",
    "#Define Connection Information\n",
    "HOST='http://localhost:11080'\n",
    "    USERID='db2inst1'\n",
    "    PASSWORD='db2inst1'\n",
    "    CONNECTION='SAMPLE'\n",
    "\n",
    "#Get reusable TOKEN\n",
    "    TOKEN=$(curl -s -X POST $HOST/dbapi/v4/auth/tokens \\\n",
    "      -H 'content-type: application/json' -d '{\"userid\": '$USERID' ,\"password\":'$PASSWORD'}' | jq -r '.token') \n",
    "\n",
    "#Get JSON with details on database connection\n",
    "JSON=$(curl -s -X GET \\\n",
    "      $HOST'/dbapi/v4/dbprofiles/'$CONNECTION \\\n",
    "      -H 'authorization: Bearer '$TOKEN \\\n",
    "      -H 'content-type: application/json')\n",
    "\n",
    "    echo $JSON | jq '.'\n",
    "\n",
    "#Get JSON with list of schemas in the SAMPLE database\n",
    "JSON=$(curl -s -X GET \\\n",
    "      $HOST'/dbapi/v4/schemas' \\\n",
    "      -H 'authorization: Bearer '$TOKEN \\\n",
    "      -H 'content-type: application/json' \\\n",
    "      -H 'x-db-profile: '$CONNECTION)\n",
    "\n",
    "    echo $JSON | jq '.'\n",
    "        echo\n",
    "        \n",
    "#Extract the number of schemas in the Sample Database using the jq library\n",
    "    echo 'Number of Schemas in' $CONNECTION':'\n",
    "    echo $JSON | jq -r '.count'    "
   ]
  },
  {
   "cell_type": "markdown",
   "metadata": {},
   "source": [
    "## Combing Db2 Commands with API Calls\n",
    "The next example creates a Db2 Database and adds that database to the list of Db2 Console connections. This combines Db2 commands along with cURL API commands into the same script. "
   ]
  },
  {
   "cell_type": "markdown",
   "metadata": {},
   "source": [
    "### Giving Db2 Command Line Access to DB2POT\n",
    "Before we can run the sample script using the DB2POT user we need to ensure it can run the Db2 Command Line Processor. By default, only the DB2INST1 user on this Linux system is setup to run the Db2 Command Line processor. (If you want to find out more about this step there is a great BLOG article on this subject from Ember Crooks: [Db2 Basics: Setting up a Command Line to Work with Db2](https://datageek.blog/en/2019/04/30/db2-basics-setting-up-a-command-line-to-work-with-db2))\n",
    "\n",
    "1. Open a Terminal window.\n",
    "1. Run the following command to open the **.bashrc** file for db2pot:"
   ]
  },
  {
   "cell_type": "code",
   "execution_count": null,
   "metadata": {
    "hide_input": true,
    "tags": [
     "refresh"
    ]
   },
   "outputs": [],
   "source": [
    "%%html\n",
    "<div style=\"margin-left: 35px; border-style: solid; border-width: 1px; background-color:#F2F2F2; padding: 10px;\" >\n",
    "<pre id=117 onmousedown=\"window.clipline(117)\" onmouseup=\"window.reset(117)\">\n",
    "gedit ../db2pot/.bashrc\n",
    "</pre>\n",
    "</div>"
   ]
  },
  {
   "cell_type": "markdown",
   "metadata": {
    "hide_input": true
   },
   "source": [
    "Add the followings commands to the bottom of the **.bashrc** file"
   ]
  },
  {
   "cell_type": "code",
   "execution_count": null,
   "metadata": {
    "hide_input": true,
    "tags": [
     "refresh"
    ]
   },
   "outputs": [],
   "source": [
    "%%html\n",
    "<div style=\"margin-left: 35px; border-style: solid; border-width: 1px; background-color:#F2F2F2; padding: 10px;\" >\n",
    "<pre id=115 onmousedown=\"window.clipline(115)\" onmouseup=\"window.reset(115)\">\n",
    " # Add the following three lines to the .bashrc file for the DB2POT user\n",
    " if [ -f /home/db2inst1/sqllib/db2profile ]; then\n",
    "     . /home/db2inst1/sqllib/db2profile\n",
    " fi\n",
    "</pre>\n",
    "</div>"
   ]
  },
  {
   "cell_type": "markdown",
   "metadata": {},
   "source": [
    "3. Click **Save** at the top right of the Editor\n",
    "4. Close the Editor\n",
    "5. Close any open **Terminal** windows\n",
    "6. Click the **Terminal** icon at the bottom of the screen\n",
    "7. Enter **db2**. The Db2 Command Line processor should start.\n",
    "8. Enter **Connect to SAMPLE**\n",
    "9. Enter the following select statement."
   ]
  },
  {
   "cell_type": "code",
   "execution_count": null,
   "metadata": {
    "hide_input": true,
    "tags": [
     "refresh"
    ]
   },
   "outputs": [],
   "source": [
    "%%html\n",
    "<div style=\"margin-left: 35px; border-style: solid; border-width: 1px; background-color:#F2F2F2; padding: 10px;\" >\n",
    "<pre id=116 onmousedown=\"window.clipline(116)\" onmouseup=\"window.reset(116)\">\n",
    "SELECT TABNAME FROM SYSCAT.TABLES\n",
    "</pre>\n",
    "</div>"
   ]
  },
  {
   "cell_type": "markdown",
   "metadata": {},
   "source": [
    "This should return a list of over 700 tables.\n",
    "\n",
    "9. Enter **quit** to return to the command line"
   ]
  },
  {
   "cell_type": "markdown",
   "metadata": {},
   "source": [
    "### Review the Create and Catalog Script\n",
    "You are now ready to run both Db2 and cURL API commands from a BASH script. Lets review a sample script.\n",
    "1. Click the Files icon at the bottom left of the screen\n",
    "2. Double-Click notebooks\n",
    "3. Scroll down and Double-Click **CreateAndCatalog.sh**\n",
    "This opens the Text Editor so you can review the cURL script used in this example. Notice that the command accepts parameters for both the name of the database you will create as well as the information you need to pass to the Db2 Console through the API."
   ]
  },
  {
   "cell_type": "markdown",
   "metadata": {},
   "source": [
    "The first part of the script assigns input parameters to specific variables that are used in the script."
   ]
  },
  {
   "cell_type": "raw",
   "metadata": {},
   "source": [
    "DATABASE=$1\n",
    "CONNECTION=$2\n",
    "CONNPORT=$3\n",
    "CONNHOST=$4\n",
    "CONNUSERID=$5\n",
    "CONNPW=$6\n",
    "CONNCOMMENT=$7"
   ]
  },
  {
   "cell_type": "markdown",
   "metadata": {},
   "source": [
    "The next step runs a Db2 Command Line command to create the new database using the $DATABASE name parameter"
   ]
  },
  {
   "cell_type": "raw",
   "metadata": {},
   "source": [
    "echo 'Create Database:' $DATABASE\n",
    "db2 create database $DATABASE\n",
    "echo"
   ]
  },
  {
   "cell_type": "markdown",
   "metadata": {},
   "source": [
    "The next step connects to the Db2 Console service and retrieves a connection token that is used in the following step."
   ]
  },
  {
   "cell_type": "raw",
   "metadata": {},
   "source": [
    "## Db2 Console Connection Information\n",
    "HOST='http://localhost:11080'\n",
    "USERID='db2inst1'\n",
    "PASSWORD='db2inst1'\n",
    "\n",
    "echo 'Connect to Console:' $HOST\n",
    "TOKEN=$(curl -s -X POST $HOST/dbapi/v4/auth/tokens \\\n",
    "  -H 'content-type: application/json' \\\n",
    "  -d '{\"userid\": '$USERID' ,\"password\":'$PASSWORD'}' | jq -r '.token')\n",
    "echo"
   ]
  },
  {
   "cell_type": "markdown",
   "metadata": {},
   "source": [
    "Finally the Db2 Console API command is called to add the new Database to the Db2 console list of databases by creating a new database connection profile. In this example the information required to add the connection to the Db2 Console is contained in a JSON string called the API Payload. It includes all the information needed to add the connection. There are few optional parameters included:\n",
    "1. A userid and password used to connect to the database and monitor performance and availability\n",
    "2. A userid and password saved for operational tasks like running SQL or exploring database objects\n",
    "3. An optional comment ussed to describe the connection.\n",
    "cURL is then used to send the 'db2profiles API request to Db2 Console along with the JSON payload. "
   ]
  },
  {
   "cell_type": "raw",
   "metadata": {},
   "source": [
    "echo 'Add Connection Profile:' $CONNECTION 'using the JSON payload:'\n",
    "\n",
    "JSONPAYLOAD='{\"name\":\"'$CONNECTION'\",\"dataServerType\":\"DB2LUW\",\"databaseName\":\"'$DATABASE'\",\"port\":\"'$CONNPORT'\",\"host\":\"'$CONNHOST'\",\"URL\":\"jdbc:db2://'$CONNHOST':'$CONNPORT'/'$DATABASE':retrieveMessagesFromServerOnGetMessage=true;\",\"sslConnection\":\"false\",\"disableDataCollection\":\"false\",\"collectionCred\":{\"securityMechanism\":\"3\",\"user\":\"'$CONNUSERID'\",\"password\":\"'$CONNPW'\"},\"operationCred\":{\"securityMechanism\":\"3\",\"user\":\"'$CONNUSERID'\",\"password\":\"'$CONNPW'\",\"saveOperationCred\":\"true\"},\"comment\":\"'$CONNCOMMENT'\"}'\n",
    "echo $JSONPAYLOAD\n",
    "echo\n",
    "\n",
    "JSONRESULT=$(curl -s -X POST $HOST/dbapi/v4/dbprofiles \\\n",
    "  -H 'authorization: Bearer '$TOKEN \\\n",
    "  -H 'content-type: application/json' \\\n",
    "  -d $JSONPAYLOAD)\n",
    "echo $JSONRESULT "
   ]
  },
  {
   "cell_type": "markdown",
   "metadata": {},
   "source": [
    "### Run the Create and Catalog Script\n",
    "Now try running the script from the Terminal\n",
    "\n",
    "1. Return to the Terminal Window from the previous step\n",
    "2. Enter **cd notebooks**. Make sure you are in the notebooks directory.\n",
    "3. Enter the command below:"
   ]
  },
  {
   "cell_type": "code",
   "execution_count": null,
   "metadata": {
    "hide_input": true,
    "tags": [
     "refresh"
    ]
   },
   "outputs": [],
   "source": [
    "%%html\n",
    "<div style=\"margin-left: 35px; border-style: solid; border-width: 1px; background-color:#F2F2F2; padding: 10px;\" >\n",
    "<pre id=114 onmousedown=\"window.clipline(114)\" onmouseup=\"window.reset(114)\">\n",
    "sh CreateAndCatalog.sh TESTDB TESTDB 50000 localhost db2inst1 db2inst1 TestDBComment\n",
    "</pre>\n",
    "</div>"
   ]
  },
  {
   "cell_type": "markdown",
   "metadata": {},
   "source": [
    "4. Return to the Db2 Console in the broswer\n",
    "5. Click on the Settings Gear icon at the top right of the Db2 Console\n",
    "6. Select Connection Profile\n",
    "7. Check for your new database **TESTDB** in the list of databases\n",
    "\n",
    "The example script created a profile enables monitoring and saves a userid and password you can use for administration and running SQL."
   ]
  },
  {
   "cell_type": "markdown",
   "metadata": {
    "hide_input": false
   },
   "source": [
    "## Next Steps\n",
    "Try creating your own command line scripts that include API calls to the Db2 Console. You can also cURL to add databases to different Db2 Console monitoring profiles or make changes to existing monitoring profiles. Have a look at the [Managing the Db2 Management Console](http://localhost:8888/notebooks/Db2_Data_Management_Console_Management.ipynb) lesson to find out more about constructing RESTful API calls to configure the Db2 Console. "
   ]
  },
  {
   "cell_type": "markdown",
   "metadata": {},
   "source": [
    "#### Credits: IBM 2020, Peter Kohlmann [kohlmann@ca.ibm.com]"
   ]
  }
 ],
 "metadata": {
  "kernelspec": {
   "display_name": "Python 3",
   "language": "python",
   "name": "python3"
  },
  "language_info": {
   "codemirror_mode": {
    "name": "ipython",
    "version": 3
   },
   "file_extension": ".py",
   "mimetype": "text/x-python",
   "name": "python",
   "nbconvert_exporter": "python",
   "pygments_lexer": "ipython3",
   "version": "3.7.4"
  }
 },
 "nbformat": 4,
 "nbformat_minor": 2
}
